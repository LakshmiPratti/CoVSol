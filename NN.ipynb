{
  "nbformat": 4,
  "nbformat_minor": 0,
  "metadata": {
    "colab": {
      "name": "NN.ipynb",
      "provenance": [],
      "collapsed_sections": [],
      "authorship_tag": "ABX9TyMVHCAaoCoHvNU7yMmQqj9G"
    },
    "kernelspec": {
      "display_name": "Python 3",
      "name": "python3"
    },
    "language_info": {
      "name": "python"
    }
  },
  "cells": [
    {
      "cell_type": "code",
      "metadata": {
        "colab": {
          "base_uri": "https://localhost:8080/"
        },
        "id": "deG4PTTFWQKL",
        "outputId": "220b0d5b-a4d4-4303-88ee-caadcd5bade8"
      },
      "source": [
        "from google.colab import drive\n",
        "drive.mount('/content/drive')"
      ],
      "execution_count": 1,
      "outputs": [
        {
          "output_type": "stream",
          "text": [
            "Mounted at /content/drive\n"
          ],
          "name": "stdout"
        }
      ]
    },
    {
      "cell_type": "markdown",
      "metadata": {
        "id": "VJJcJJTxcd32"
      },
      "source": [
        "# **Installing Deepchem**"
      ]
    },
    {
      "cell_type": "code",
      "metadata": {
        "colab": {
          "base_uri": "https://localhost:8080/"
        },
        "id": "5pgeyxUTSF-D",
        "outputId": "1f3ef242-c6f3-4839-ef21-01538a23480b"
      },
      "source": [
        "!pip install --pre deepchem\n"
      ],
      "execution_count": 2,
      "outputs": [
        {
          "output_type": "stream",
          "text": [
            "Collecting deepchem\n",
            "\u001b[?25l  Downloading https://files.pythonhosted.org/packages/48/4f/918faea08e6f3e42dd955fd7309912cd01782ee62fc6e3a6047192add238/deepchem-2.6.0.dev20210406183355-py3-none-any.whl (553kB)\n",
            "\r\u001b[K     |▋                               | 10kB 18.8MB/s eta 0:00:01\r\u001b[K     |█▏                              | 20kB 23.8MB/s eta 0:00:01\r\u001b[K     |█▊                              | 30kB 28.6MB/s eta 0:00:01\r\u001b[K     |██▍                             | 40kB 32.5MB/s eta 0:00:01\r\u001b[K     |███                             | 51kB 29.2MB/s eta 0:00:01\r\u001b[K     |███▌                            | 61kB 31.5MB/s eta 0:00:01\r\u001b[K     |████▏                           | 71kB 20.8MB/s eta 0:00:01\r\u001b[K     |████▊                           | 81kB 19.1MB/s eta 0:00:01\r\u001b[K     |█████▎                          | 92kB 19.3MB/s eta 0:00:01\r\u001b[K     |██████                          | 102kB 20.0MB/s eta 0:00:01\r\u001b[K     |██████▌                         | 112kB 20.0MB/s eta 0:00:01\r\u001b[K     |███████                         | 122kB 20.0MB/s eta 0:00:01\r\u001b[K     |███████▊                        | 133kB 20.0MB/s eta 0:00:01\r\u001b[K     |████████▎                       | 143kB 20.0MB/s eta 0:00:01\r\u001b[K     |████████▉                       | 153kB 20.0MB/s eta 0:00:01\r\u001b[K     |█████████▌                      | 163kB 20.0MB/s eta 0:00:01\r\u001b[K     |██████████                      | 174kB 20.0MB/s eta 0:00:01\r\u001b[K     |██████████▋                     | 184kB 20.0MB/s eta 0:00:01\r\u001b[K     |███████████▎                    | 194kB 20.0MB/s eta 0:00:01\r\u001b[K     |███████████▉                    | 204kB 20.0MB/s eta 0:00:01\r\u001b[K     |████████████▍                   | 215kB 20.0MB/s eta 0:00:01\r\u001b[K     |█████████████                   | 225kB 20.0MB/s eta 0:00:01\r\u001b[K     |█████████████▋                  | 235kB 20.0MB/s eta 0:00:01\r\u001b[K     |██████████████▏                 | 245kB 20.0MB/s eta 0:00:01\r\u001b[K     |██████████████▉                 | 256kB 20.0MB/s eta 0:00:01\r\u001b[K     |███████████████▍                | 266kB 20.0MB/s eta 0:00:01\r\u001b[K     |████████████████                | 276kB 20.0MB/s eta 0:00:01\r\u001b[K     |████████████████▋               | 286kB 20.0MB/s eta 0:00:01\r\u001b[K     |█████████████████▏              | 296kB 20.0MB/s eta 0:00:01\r\u001b[K     |█████████████████▊              | 307kB 20.0MB/s eta 0:00:01\r\u001b[K     |██████████████████▍             | 317kB 20.0MB/s eta 0:00:01\r\u001b[K     |███████████████████             | 327kB 20.0MB/s eta 0:00:01\r\u001b[K     |███████████████████▌            | 337kB 20.0MB/s eta 0:00:01\r\u001b[K     |████████████████████▏           | 348kB 20.0MB/s eta 0:00:01\r\u001b[K     |████████████████████▊           | 358kB 20.0MB/s eta 0:00:01\r\u001b[K     |█████████████████████▎          | 368kB 20.0MB/s eta 0:00:01\r\u001b[K     |██████████████████████          | 378kB 20.0MB/s eta 0:00:01\r\u001b[K     |██████████████████████▌         | 389kB 20.0MB/s eta 0:00:01\r\u001b[K     |███████████████████████         | 399kB 20.0MB/s eta 0:00:01\r\u001b[K     |███████████████████████▊        | 409kB 20.0MB/s eta 0:00:01\r\u001b[K     |████████████████████████▎       | 419kB 20.0MB/s eta 0:00:01\r\u001b[K     |████████████████████████▉       | 430kB 20.0MB/s eta 0:00:01\r\u001b[K     |█████████████████████████▌      | 440kB 20.0MB/s eta 0:00:01\r\u001b[K     |██████████████████████████      | 450kB 20.0MB/s eta 0:00:01\r\u001b[K     |██████████████████████████▋     | 460kB 20.0MB/s eta 0:00:01\r\u001b[K     |███████████████████████████▎    | 471kB 20.0MB/s eta 0:00:01\r\u001b[K     |███████████████████████████▉    | 481kB 20.0MB/s eta 0:00:01\r\u001b[K     |████████████████████████████▍   | 491kB 20.0MB/s eta 0:00:01\r\u001b[K     |█████████████████████████████   | 501kB 20.0MB/s eta 0:00:01\r\u001b[K     |█████████████████████████████▋  | 512kB 20.0MB/s eta 0:00:01\r\u001b[K     |██████████████████████████████▏ | 522kB 20.0MB/s eta 0:00:01\r\u001b[K     |██████████████████████████████▉ | 532kB 20.0MB/s eta 0:00:01\r\u001b[K     |███████████████████████████████▍| 542kB 20.0MB/s eta 0:00:01\r\u001b[K     |████████████████████████████████| 552kB 20.0MB/s eta 0:00:01\r\u001b[K     |████████████████████████████████| 563kB 20.0MB/s \n",
            "\u001b[?25hRequirement already satisfied: scikit-learn in /usr/local/lib/python3.7/dist-packages (from deepchem) (0.22.2.post1)\n",
            "Requirement already satisfied: joblib in /usr/local/lib/python3.7/dist-packages (from deepchem) (1.0.1)\n",
            "Requirement already satisfied: pandas in /usr/local/lib/python3.7/dist-packages (from deepchem) (1.1.5)\n",
            "Requirement already satisfied: numpy in /usr/local/lib/python3.7/dist-packages (from deepchem) (1.19.5)\n",
            "Requirement already satisfied: scipy in /usr/local/lib/python3.7/dist-packages (from deepchem) (1.4.1)\n",
            "Requirement already satisfied: python-dateutil>=2.7.3 in /usr/local/lib/python3.7/dist-packages (from pandas->deepchem) (2.8.1)\n",
            "Requirement already satisfied: pytz>=2017.2 in /usr/local/lib/python3.7/dist-packages (from pandas->deepchem) (2018.9)\n",
            "Requirement already satisfied: six>=1.5 in /usr/local/lib/python3.7/dist-packages (from python-dateutil>=2.7.3->pandas->deepchem) (1.15.0)\n",
            "Installing collected packages: deepchem\n",
            "Successfully installed deepchem-2.6.0.dev20210406183355\n"
          ],
          "name": "stdout"
        }
      ]
    },
    {
      "cell_type": "code",
      "metadata": {
        "id": "Jswx_ZjpST9N"
      },
      "source": [
        "import deepchem"
      ],
      "execution_count": 3,
      "outputs": []
    },
    {
      "cell_type": "markdown",
      "metadata": {
        "id": "OLRSkXZQcqPH"
      },
      "source": [
        "# **Loading the dataset**"
      ]
    },
    {
      "cell_type": "code",
      "metadata": {
        "colab": {
          "base_uri": "https://localhost:8080/"
        },
        "id": "OneHOvD0SeuP",
        "outputId": "7facfed0-23a9-415a-a6f8-c47317d4cab6"
      },
      "source": [
        "from deepchem.utils.save import load_from_disk\n",
        "dataset_file = \"/content/drive/MyDrive/dataset_cleaned.csv\"\n",
        "\n"
      ],
      "execution_count": 4,
      "outputs": [
        {
          "output_type": "stream",
          "text": [
            "deepchem.utils.save has been deprecated.\n",
            "The utilities in save.py are moved to deepchem.utils.data_utils or deepchem.utils.genomics_utils.\n"
          ],
          "name": "stderr"
        }
      ]
    },
    {
      "cell_type": "markdown",
      "metadata": {
        "id": "sGjarucFhIHu"
      },
      "source": [
        "# **Loading the data from the CSV file**"
      ]
    },
    {
      "cell_type": "code",
      "metadata": {
        "colab": {
          "base_uri": "https://localhost:8080/"
        },
        "id": "raT104_3eu9Y",
        "outputId": "b14375fb-008b-4916-e7fd-0399d98e1528"
      },
      "source": [
        "loader = deepchem.data.CSVLoader(tasks=[\"Solubility\"], \n",
        "                                 smiles_field=\"SMILES\", \n",
        "                             featurizer=deepchem.feat.ConvMolFeaturizer())\n"
      ],
      "execution_count": 6,
      "outputs": [
        {
          "output_type": "stream",
          "text": [
            "smiles_field is deprecated and will be removed in a future version of DeepChem.Use feature_field instead.\n"
          ],
          "name": "stderr"
        }
      ]
    }
  ]
}