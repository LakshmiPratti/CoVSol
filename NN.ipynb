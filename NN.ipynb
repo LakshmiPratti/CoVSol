{
  "nbformat": 4,
  "nbformat_minor": 0,
  "metadata": {
    "colab": {
      "name": "NN.ipynb",
      "provenance": [],
      "collapsed_sections": [],
      "toc_visible": true,
      "authorship_tag": "ABX9TyN/YfPxrDe3CDKEImrFUUHg"
    },
    "kernelspec": {
      "display_name": "Python 3",
      "name": "python3"
    },
    "language_info": {
      "name": "python"
    }
  },
  "cells": [
    {
      "cell_type": "code",
      "metadata": {
        "colab": {
          "base_uri": "https://localhost:8080/"
        },
        "id": "deG4PTTFWQKL",
        "outputId": "a6718ee6-c96e-45dc-b251-54192bcc4cd9"
      },
      "source": [
        "from google.colab import drive\n",
        "drive.mount('/content/drive')"
      ],
      "execution_count": null,
      "outputs": [
        {
          "output_type": "stream",
          "text": [
            "Mounted at /content/drive\n"
          ],
          "name": "stdout"
        }
      ]
    },
    {
      "cell_type": "markdown",
      "metadata": {
        "id": "VJJcJJTxcd32"
      },
      "source": [
        "# **Installing Deepchem**"
      ]
    },
    {
      "cell_type": "code",
      "metadata": {
        "colab": {
          "base_uri": "https://localhost:8080/"
        },
        "id": "5pgeyxUTSF-D",
        "outputId": "ff56b0d4-56a8-47a7-c6fc-ae06e705c5de"
      },
      "source": [
        "!pip install --pre deepchem\n"
      ],
      "execution_count": null,
      "outputs": [
        {
          "output_type": "stream",
          "text": [
            "Collecting deepchem\n",
            "  Downloading deepchem-2.6.0.dev20210406183355-py3-none-any.whl (553 kB)\n",
            "\u001b[K     |████████████████████████████████| 553 kB 7.4 MB/s \n",
            "\u001b[?25hCollecting joblib\n",
            "  Downloading joblib-1.0.1-py3-none-any.whl (303 kB)\n",
            "\u001b[K     |████████████████████████████████| 303 kB 15.3 MB/s \n",
            "\u001b[?25hCollecting scikit-learn\n",
            "  Downloading scikit_learn-0.24.1-cp37-cp37m-manylinux2010_x86_64.whl (22.3 MB)\n",
            "\u001b[K     |████████████████████████████████| 22.3 MB 5.5 MB/s \n",
            "\u001b[?25hRequirement already satisfied: numpy in /usr/local/lib/python3.7/site-packages (from deepchem) (1.19.2)\n",
            "Collecting scipy\n",
            "  Downloading scipy-1.6.2-cp37-cp37m-manylinux1_x86_64.whl (27.4 MB)\n",
            "\u001b[K     |████████████████████████████████| 27.4 MB 113 kB/s \n",
            "\u001b[?25hRequirement already satisfied: pandas in /usr/local/lib/python3.7/site-packages (from deepchem) (1.2.3)\n",
            "Collecting threadpoolctl>=2.0.0\n",
            "  Downloading threadpoolctl-2.1.0-py3-none-any.whl (12 kB)\n",
            "Requirement already satisfied: python-dateutil>=2.7.3 in /usr/local/lib/python3.7/site-packages (from pandas->deepchem) (2.8.1)\n",
            "Requirement already satisfied: pytz>=2017.3 in /usr/local/lib/python3.7/site-packages (from pandas->deepchem) (2021.1)\n",
            "Requirement already satisfied: six>=1.5 in /usr/local/lib/python3.7/site-packages (from python-dateutil>=2.7.3->pandas->deepchem) (1.14.0)\n",
            "Installing collected packages: joblib, threadpoolctl, scipy, scikit-learn, deepchem\n",
            "Successfully installed deepchem-2.6.0.dev20210406183355 joblib-1.0.1 scikit-learn-0.24.1 scipy-1.6.2 threadpoolctl-2.1.0\n"
          ],
          "name": "stdout"
        }
      ]
    },
    {
      "cell_type": "code",
      "metadata": {
        "id": "Jswx_ZjpST9N"
      },
      "source": [
        "import deepchem"
      ],
      "execution_count": null,
      "outputs": []
    },
    {
      "cell_type": "markdown",
      "metadata": {
        "id": "OLRSkXZQcqPH"
      },
      "source": [
        "# **Loading the dataset**"
      ]
    },
    {
      "cell_type": "code",
      "metadata": {
        "colab": {
          "base_uri": "https://localhost:8080/"
        },
        "id": "OneHOvD0SeuP",
        "outputId": "f6b38192-1e79-4da9-f9e2-2e287348efbd"
      },
      "source": [
        "from deepchem.utils.save import load_from_disk\n",
        "dataset_file = \"/content/drive/MyDrive/dataset.csv\"\n",
        "\n"
      ],
      "execution_count": null,
      "outputs": [
        {
          "output_type": "stream",
          "text": [
            "smiles_field is deprecated and will be removed in a future version of DeepChem.Use feature_field instead.\n"
          ],
          "name": "stderr"
        }
      ]
    },
    {
      "cell_type": "markdown",
      "metadata": {
        "id": "sGjarucFhIHu"
      },
      "source": [
        "# **Loading the data from the CSV file**"
      ]
    },
    {
      "cell_type": "code",
      "metadata": {
        "colab": {
          "base_uri": "https://localhost:8080/"
        },
        "id": "raT104_3eu9Y",
        "outputId": "e024e280-6930-4abf-ad5c-fb7bb0a7072b"
      },
      "source": [
        "\n",
        "loader = deepchem.data.CSVLoader(tasks=[\"xlogp\"], \n",
        "                                 smiles_field=\"isosmiles\", \n",
        "                             featurizer=deepchem.feat.ConvMolFeaturizer())\n"
      ],
      "execution_count": 19,
      "outputs": [
        {
          "output_type": "stream",
          "text": [
            "smiles_field is deprecated and will be removed in a future version of DeepChem.Use feature_field instead.\n"
          ],
          "name": "stderr"
        }
      ]
    }
  ]
}